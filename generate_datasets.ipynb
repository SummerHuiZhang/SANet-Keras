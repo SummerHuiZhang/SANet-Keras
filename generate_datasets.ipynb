{
 "cells": [
  {
   "cell_type": "code",
   "execution_count": 1,
   "metadata": {},
   "outputs": [
    {
     "name": "stderr",
     "output_type": "stream",
     "text": [
      "Using TensorFlow backend.\n"
     ]
    }
   ],
   "source": [
    "# Refer from https://github.com/leeyeehoo/CSRNet-pytorch/blob/master/make_dataset.ipynb\n",
    "import os\n",
    "import cv2\n",
    "import glob\n",
    "import h5py\n",
    "from scipy.io import loadmat\n",
    "import numpy as np\n",
    "from tqdm import tqdm\n",
    "from utils import get_density_map_gaussian"
   ]
  },
  {
   "cell_type": "code",
   "execution_count": 2,
   "metadata": {},
   "outputs": [],
   "source": [
    "root = 'data/ShanghaiTech/'"
   ]
  },
  {
   "cell_type": "code",
   "execution_count": 3,
   "metadata": {},
   "outputs": [],
   "source": [
    "part_A_train = os.path.join(root, 'part_A/train_data', 'images')\n",
    "part_A_test = os.path.join(root, 'part_A/test_data', 'images')\n",
    "part_B_train = os.path.join(root, 'part_B/train_data', 'images')\n",
    "part_B_test = os.path.join(root, 'part_B/test_data', 'images')\n",
    "path_sets_train = [part_A_train, part_B_train]\n",
    "path_sets_test = [part_A_test, part_B_test]"
   ]
  },
  {
   "cell_type": "code",
   "execution_count": 4,
   "metadata": {},
   "outputs": [
    {
     "name": "stdout",
     "output_type": "stream",
     "text": [
      "700\n",
      "498\n"
     ]
    }
   ],
   "source": [
    "img_paths_train = []\n",
    "for path in path_sets_train:\n",
    "    for img_path in glob.glob(os.path.join(path, '*.jpg')):\n",
    "        img_paths_train.append(img_path)\n",
    "print(len(img_paths_train))\n",
    "img_paths_test = []\n",
    "for path in path_sets_test:\n",
    "    for img_path in glob.glob(os.path.join(path, '*.jpg')):\n",
    "        img_paths_test.append(img_path)\n",
    "print(len(img_paths_test))"
   ]
  },
  {
   "cell_type": "code",
   "execution_count": 5,
   "metadata": {},
   "outputs": [
    {
     "name": "stderr",
     "output_type": "stream",
     "text": [
      "100%|██████████| 700/700 [01:02<00:00, 11.15it/s]\n",
      "100%|██████████| 498/498 [00:41<00:00, 12.07it/s]\n"
     ]
    }
   ],
   "source": [
    "for part in ['A', 'B']:\n",
    "    for t in ['train', 'test']:\n",
    "        if not os.path.exists('data/ShanghaiTech/part_{}/{}_data/ground/'.format(part, t)):\n",
    "            os.mkdir('data/ShanghaiTech/part_{}/{}_data/ground/'.format(part, t))\n",
    "for img_paths in [img_paths_train, img_paths_test]:\n",
    "    for img_path in tqdm(img_paths):\n",
    "\n",
    "        pts = loadmat(img_path.replace('.jpg', '.mat').replace('images', 'ground-truth').replace('IMG_', 'GT_IMG_'))\n",
    "        img = cv2.imread(img_path)\n",
    "\n",
    "        k = np.zeros((img.shape[0], img.shape[1]))\n",
    "\n",
    "        gt = pts[\"image_info\"][0, 0][0, 0][0]\n",
    "\n",
    "        for i in range(len(gt)):\n",
    "            if int(gt[i][1]) < img.shape[0] and int(gt[i][0]) < img.shape[1]:\n",
    "                k[int(gt[i][1]), int(gt[i][0])] = 1\n",
    "\n",
    "        k = get_density_map_gaussian(k, gt, adaptive_kernel=True)\n",
    "\n",
    "        file_path = img_path.replace('.jpg', '.h5').replace('images', 'ground')\n",
    "\n",
    "        with h5py.File(file_path, 'w') as hf:\n",
    "                hf['density'] = k"
   ]
  },
  {
   "cell_type": "code",
   "execution_count": null,
   "metadata": {},
   "outputs": [],
   "source": []
  }
 ],
 "metadata": {
  "kernelspec": {
   "display_name": "Python 3",
   "language": "python",
   "name": "python3"
  },
  "language_info": {
   "codemirror_mode": {
    "name": "ipython",
    "version": 3
   },
   "file_extension": ".py",
   "mimetype": "text/x-python",
   "name": "python",
   "nbconvert_exporter": "python",
   "pygments_lexer": "ipython3",
   "version": "3.6.6"
  }
 },
 "nbformat": 4,
 "nbformat_minor": 2
}
